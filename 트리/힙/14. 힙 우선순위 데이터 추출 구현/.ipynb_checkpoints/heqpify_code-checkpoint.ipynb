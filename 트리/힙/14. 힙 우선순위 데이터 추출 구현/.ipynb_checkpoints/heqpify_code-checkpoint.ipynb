{
 "cells": [
  {
   "cell_type": "code",
   "execution_count": null,
   "metadata": {},
   "outputs": [],
   "source": [
    "def swap(tree, index_1, index_2):\n",
    "    \"\"\"완전 이진 트리의 노드 index_1과 노드 index_2의 위치를 바꿔준다\"\"\"\n",
    "    temp = tree[index_1]\n",
    "    tree[index_1] = tree[index_2]\n",
    "    tree[index_2] = temp\n",
    "\n",
    "\n",
    "def heapify(tree, index, tree_size):\n",
    "    \"\"\"heapify 함수\"\"\"\n",
    "\n",
    "    # 왼쪽 자식 노드의 인덱스와 오른쪽 자식 노드의 인덱스를 계산\n",
    "    left_child_index = 2 * index\n",
    "    right_child_index = 2 * index + 1\n",
    "\n",
    "    largest = index  # 일단 부모 노드의 값이 가장 크다고 설정\n",
    "\n",
    "    # 왼쪽 자식 노드의 값과 비교\n",
    "    if 0 < left_child_index < tree_size and tree[largest] < tree[left_child_index]:\n",
    "        largest = left_child_index\n",
    "\n",
    "    # 오른쪽 자식 노드의 값과 비교\n",
    "    if 0 < right_child_index < tree_size and tree[largest] < tree[right_child_index]:\n",
    "        largest = right_child_index\n",
    "    \n",
    "    if largest != index: # 부모 노드의 값이 자식 노드의 값보다 작으면\n",
    "        swap(tree, index, largest)  # 부모 노드와 최댓값을 가진 자식 노드의 위치를 바꿔준다\n",
    "        heapify(tree, largest, tree_size)  # 자리가 바뀌어 자식 노드가 된 기존의 부모 노드를대상으로 또 heapify 함수를 호출한다\n",
    "\n",
    "\n",
    "def reverse_heapify(tree, index):\n",
    "    \"\"\"삽입된 노드를 힙 속성을 지키는 위치로 이동시키는 함수\"\"\"\n",
    "    parent_index = index // 2  # 삽입된 노드의 부모 노드의 인덱스 계산\n",
    "\n",
    "    # 부모 노드가 존재하고, 부모 노드의 값이 삽입된 노드의 값보다 작을 때\n",
    "    if 0 < parent_index < len(tree) and tree[index] > tree[parent_index]:\n",
    "        swap(tree, index, parent_index)  # 부모 노드와 삽입된 노드의 위치 교환\n",
    "        reverse_heapify(tree, parent_index)  # 삽입된 노드를 대상으로 다시 reverse_heapify 호출\n",
    "\n"
   ]
  }
 ],
 "metadata": {
  "kernelspec": {
   "display_name": "Python 3",
   "language": "python",
   "name": "python3"
  },
  "language_info": {
   "codemirror_mode": {
    "name": "ipython",
    "version": 3
   },
   "file_extension": ".py",
   "mimetype": "text/x-python",
   "name": "python",
   "nbconvert_exporter": "python",
   "pygments_lexer": "ipython3",
   "version": "3.7.3"
  }
 },
 "nbformat": 4,
 "nbformat_minor": 2
}
