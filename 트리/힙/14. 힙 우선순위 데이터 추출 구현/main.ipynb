{
 "cells": [
  {
   "cell_type": "code",
   "execution_count": null,
   "metadata": {},
   "outputs": [],
   "source": [
    "from heapify_code import *\n",
    "\n",
    "class PriorityQueue:\n",
    "    \"\"\"힙으로 구현한 우선순위 큐\"\"\"\n",
    "    def __init__(self):\n",
    "        self.heap = [None]  # 파이썬 리스트로 구현한 힙\n",
    "\n",
    "    def insert(self, data):\n",
    "        \"\"\"삽입 메소드\"\"\"\n",
    "        self.heap.append(data)  # 힙의 마지막에 데이터 추가\n",
    "        reverse_heapify(self.heap, len(self.heap)-1) # 삽입된 노드(추가된 데이터)의 위치를 재배치\n",
    "\n",
    "    def extract_max(self):\n",
    "        \"\"\"최우선순위 데이터 추출 메소드\"\"\"\n",
    "        swap(self.heap, 1, len(self.heap) - 1)  # root 노드와 마지막 노드의 위치 바꿈\n",
    "        max_value = self.heap.pop()  # 힙에서 마지막 노드 추출(삭제)해서 변수에 저장\n",
    "        heapify(self.heap, 1, len(self.heap))  # 새로운 root 노드를 대상으로 heapify 호출해서 힙 속성 유지\n",
    "        return max_value  # 최우선순위 데이터 리턴\n",
    "    \n",
    "    def __str__(self):\n",
    "        return str(self.heap)\n",
    "\n",
    "# 출력 코드\n",
    "priority_queue = PriorityQueue()\n",
    "\n",
    "priority_queue.insert(6)\n",
    "priority_queue.insert(9)\n",
    "priority_queue.insert(1)\n",
    "priority_queue.insert(3)\n",
    "priority_queue.insert(10)\n",
    "priority_queue.insert(11)\n",
    "priority_queue.insert(13)\n",
    "\n",
    "print(priority_queue.extract_max())\n",
    "print(priority_queue.extract_max())\n",
    "print(priority_queue.extract_max())\n",
    "print(priority_queue.extract_max())\n",
    "print(priority_queue.extract_max())\n",
    "print(priority_queue.extract_max())\n",
    "print(priority_queue.extract_max())"
   ]
  }
 ],
 "metadata": {
  "kernelspec": {
   "display_name": "Python 3",
   "language": "python",
   "name": "python3"
  },
  "language_info": {
   "codemirror_mode": {
    "name": "ipython",
    "version": 3
   },
   "file_extension": ".py",
   "mimetype": "text/x-python",
   "name": "python",
   "nbconvert_exporter": "python",
   "pygments_lexer": "ipython3",
   "version": "3.7.3"
  }
 },
 "nbformat": 4,
 "nbformat_minor": 2
}
