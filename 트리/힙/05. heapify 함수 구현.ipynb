{
 "cells": [
  {
   "cell_type": "code",
   "execution_count": 3,
   "metadata": {},
   "outputs": [
    {
     "name": "stdout",
     "output_type": "stream",
     "text": [
      "[None, 15, 14, 12, 11, 9, 10, 6, 2, 5, 1]\n"
     ]
    }
   ],
   "source": [
    "## 05. heapify 함수 구현\n",
    "\n",
    "# https://ratsgo.github.io/data%20structure&algorithm/2017/09/27/heapsort/   참고\n",
    "\n",
    "def swap(tree, index_1, index_2):\n",
    "    \"\"\"완전 이진 트리의 노드 index_1과 노드 index_2의 위치를 바꿔준다\"\"\"\n",
    "    temp = tree[index_1]\n",
    "    tree[index_1] = tree[index_2]\n",
    "    tree[index_2] = temp\n",
    "\n",
    "\n",
    "def heapify(tree, index, tree_size):\n",
    "    \"\"\"heapify 함수\"\"\"\n",
    "\n",
    "    # 왼쪽 자식 노드의 인덱스와 오른쪽 자식 노드의 인덱스를 계산\n",
    "    left_child_index = 2 * index\n",
    "    right_child_index = 2 * index + 1\n",
    "\n",
    "    largest = index  # 일단 부모 노드의 값이 가장 크다고 설정\n",
    "\n",
    "    # 왼쪽 자식 노드의 값과 비교\n",
    "    if 0 < left_child_index < tree_size and tree[largest] < tree[left_child_index]:\n",
    "        largest = left_child_index\n",
    "\n",
    "    # 오른쪽 자식 노드의 값과 비교\n",
    "    if 0 < right_child_index < tree_size and tree[largest] < tree[right_child_index]:\n",
    "        largest = right_child_index\n",
    "\n",
    "    if largest != index: # 부모 노드의 값이 자식 노드의 값보다 작으면\n",
    "        swap(tree, index, largest)  # 부모 노드와 최댓값을 가진 자식 노드의 위치를 바꿔준다\n",
    "        heapify(tree, largest, tree_size)  # 자리가 바뀌어 자식 노드가 된 기존의 부모 노드를대상으로 또 heapify 함수를 호출한다\n",
    "        \n",
    "# 실행 코드\n",
    "tree = [None, 15, 5, 12, 14, 9, 10, 6, 2, 11, 1]  # heapify하려고 하는 완전 이진 트리\n",
    "heapify(tree, 2, len(tree))  # 노드 2에 heapify 호출\n",
    "print(tree) "
   ]
  }
 ],
 "metadata": {
  "kernelspec": {
   "display_name": "Python 3",
   "language": "python",
   "name": "python3"
  },
  "language_info": {
   "codemirror_mode": {
    "name": "ipython",
    "version": 3
   },
   "file_extension": ".py",
   "mimetype": "text/x-python",
   "name": "python",
   "nbconvert_exporter": "python",
   "pygments_lexer": "ipython3",
   "version": "3.7.3"
  }
 },
 "nbformat": 4,
 "nbformat_minor": 2
}
