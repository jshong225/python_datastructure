{
 "cells": [
  {
   "cell_type": "code",
   "execution_count": 5,
   "metadata": {},
   "outputs": [
    {
     "name": "stdout",
     "output_type": "stream",
     "text": [
      "[None, 13, 9, 11, 3, 6, 1, 10]\n"
     ]
    }
   ],
   "source": [
    "## 12. 힙 데이터 삽입 구현하기\n",
    "\n",
    "def swap(tree, index_1, index_2):\n",
    "    \"\"\"완전 이진 트리의 노드 index_1과 노드 index_2의 위치를 바꿔준다\"\"\"\n",
    "    temp = tree[index_1]\n",
    "    tree[index_1] = tree[index_2]\n",
    "    tree[index_2] = temp\n",
    "\n",
    "\n",
    "def reverse_heapify(tree, index):\n",
    "    \"\"\"삽입된 노드를 힙 속성을 지키는 위치로 이동시키는 함수\"\"\"\n",
    "    parent_index = index // 2  # 삽입된 노드의 부모 노드의 인덱스 계산\n",
    "    # 코드를 쓰세요.\n",
    "     # 부모 노드가 존재하고, 부모 노드의 값이 삽입된 노드의 값보다 작을 때\n",
    "    if 0 < parent_index < len(tree) and tree[index] > tree[parent_index]:\n",
    "        swap(tree, index, parent_index)  # 부모 노드와 삽입된 노드의 위치 교환\n",
    "        reverse_heapify(tree, parent_index)  # 삽입된 노드를 대상으로 다시 reverse_heapify 호출 \n",
    "class PriorityQueue:\n",
    "    \"\"\"힙으로 구현한 우선순위 큐\"\"\"\n",
    "    def __init__(self):\n",
    "        self.heap = [None]  # 파이썬 리스트로 구현한 힙\n",
    "\n",
    "\n",
    "    def insert(self, data):\n",
    "        \"\"\"삽입 메소드\"\"\"\n",
    "        # 코드를 쓰세요\n",
    "        self.heap.append(data)  # 힙의 마지막에 데이터 추가\n",
    "        reverse_heapify(self.heap, len(self.heap)-1)\n",
    "        \n",
    "\n",
    "    def __str__(self):\n",
    "        return str(self.heap)\n",
    "\n",
    "\n",
    "# 실행 코드\n",
    "priority_queue = PriorityQueue()\n",
    "\n",
    "priority_queue.insert(6)\n",
    "priority_queue.insert(9)\n",
    "priority_queue.insert(1)\n",
    "priority_queue.insert(3)\n",
    "priority_queue.insert(10)\n",
    "priority_queue.insert(11)\n",
    "priority_queue.insert(13)\n",
    "\n",
    "print(priority_queue)\n"
   ]
  }
 ],
 "metadata": {
  "kernelspec": {
   "display_name": "Python 3",
   "language": "python",
   "name": "python3"
  },
  "language_info": {
   "codemirror_mode": {
    "name": "ipython",
    "version": 3
   },
   "file_extension": ".py",
   "mimetype": "text/x-python",
   "name": "python",
   "nbconvert_exporter": "python",
   "pygments_lexer": "ipython3",
   "version": "3.7.3"
  }
 },
 "nbformat": 4,
 "nbformat_minor": 2
}
