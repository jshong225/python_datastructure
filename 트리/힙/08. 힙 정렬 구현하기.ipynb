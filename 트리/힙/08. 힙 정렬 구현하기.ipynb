{
 "cells": [
  {
   "cell_type": "code",
   "execution_count": 2,
   "metadata": {},
   "outputs": [
    {
     "name": "stdout",
     "output_type": "stream",
     "text": [
      "[None, 1, 1, 1, 2, 3, 4, 4, 5, 5, 6, 7, 7, 8, 10]\n"
     ]
    }
   ],
   "source": [
    "# 08. 힙 정렬 구현하기\n",
    "\n",
    "def swap(tree, index_1, index_2):\n",
    "    \"\"\"완전 이진 트리의 노드 index_1과 노드 index_2의 위치를 바꿔준다\"\"\"\n",
    "    temp = tree[index_1]\n",
    "    tree[index_1] = tree[index_2]\n",
    "    tree[index_2] = temp\n",
    "\n",
    "\n",
    "def heapify(tree, index, tree_size):\n",
    "    \"\"\"heapify 함수\"\"\"\n",
    "\n",
    "    # 왼쪽 자식 노드의 인덱스와 오른쪽 자식 노드의 인덱스를 계산\n",
    "    left_child_index = 2 * index\n",
    "    right_child_index = 2 * index + 1\n",
    "\n",
    "    largest = index  # 일단 부모 노드의 값이 가장 크다고 설정\n",
    "\n",
    "    # 왼쪽 자식 노드의 값과 비교\n",
    "    if 0 < left_child_index < tree_size and tree[largest] < tree[left_child_index]:\n",
    "        largest = left_child_index\n",
    "\n",
    "    # 오른쪽 자식 노드의 값과 비교\n",
    "    if 0 < right_child_index < tree_size and tree[largest] < tree[right_child_index]:\n",
    "        largest = right_child_index\n",
    "    \n",
    "    if largest != index: # 부모 노드의 값이 자식 노드의 값보다 작으면\n",
    "        swap(tree, index, largest)  # 부모 노드와 최댓값을 가진 자식 노드의 위치를 바꿔준다\n",
    "        heapify(tree, largest, tree_size)  # 자리가 바뀌어 자식 노드가 된 기존의 부모 노드를대상으로 또 heapify 함수를 호출한다\n",
    "\n",
    "def heapsort(tree):\n",
    "    \"\"\"힙 정렬 함수\"\"\"\n",
    "    tree_size = len(tree)\n",
    "\n",
    "    # 코드를 쓰세요\n",
    "     # 마지막 인덱스부터 처음 인덱스까지 heapify를 호출한다 \n",
    "    for index in range(tree_size, 0, -1):\n",
    "        heapify(tree, index, tree_size)\n",
    "\n",
    "    # 마지막 인덱스부터 처음 인덱스까지\n",
    "    for i in range(tree_size-1, 0, -1):\n",
    "        swap(tree, 1, i)  # root 노드와 마지막 인덱스를 바꿔준 후\n",
    "        heapify(tree, 1, i)  # root 노드에 heapify를 호출한다\n",
    "\n",
    "\n",
    "# 실행 코드\n",
    "data_to_sort = [None, 6, 1, 4, 7, 10, 3, 8, 5, 1, 5, 7, 4, 2, 1]\n",
    "heapsort(data_to_sort)\n",
    "print(data_to_sort)"
   ]
  }
 ],
 "metadata": {
  "kernelspec": {
   "display_name": "Python 3",
   "language": "python",
   "name": "python3"
  },
  "language_info": {
   "codemirror_mode": {
    "name": "ipython",
    "version": 3
   },
   "file_extension": ".py",
   "mimetype": "text/x-python",
   "name": "python",
   "nbconvert_exporter": "python",
   "pygments_lexer": "ipython3",
   "version": "3.7.3"
  }
 },
 "nbformat": 4,
 "nbformat_minor": 2
}
