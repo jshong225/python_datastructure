{
 "cells": [
  {
   "cell_type": "code",
   "execution_count": 2,
   "metadata": {},
   "outputs": [
    {
     "name": "stdout",
     "output_type": "stream",
     "text": [
      "5\n",
      "12\n",
      "11\n",
      "None\n",
      "None\n",
      "None\n"
     ]
    }
   ],
   "source": [
    "## 10. 완전 이진 트리 직접 구현하기\n",
    "\n",
    "def get_parent_index(complete_binary_tree, index):\n",
    "    \"\"\"배열로 구현한 완전 이진 트리에서 index번째 노드의 부모 노드의 인덱스를 리턴하는 함수\"\"\"\n",
    "    parent_index = index // 2\n",
    "\n",
    "    # 부모 노드가 있으면 인덱스를 리턴한다\n",
    "    if 0 < parent_index < len(complete_binary_tree):\n",
    "        return parent_index\n",
    "\n",
    "    return None\n",
    "\n",
    "\n",
    "def get_left_child_index(complete_binary_tree, index):\n",
    "    \"\"\"배열로 구현한 완전 이진 트리에서 index번째 노드의 왼쪽 자식 노드의 인덱스를 리턴하는 함수\"\"\"\n",
    "\n",
    "    left_child_index = 2 * index\n",
    "\n",
    "    # 왼쪽 자식 노드가 있으면 인덱스를 리턴한다\n",
    "    if 0 < left_child_index < len(complete_binary_tree):\n",
    "        return left_child_index\n",
    "\n",
    "    return None\n",
    "\n",
    "\n",
    "def get_right_child_index(complete_binary_tree, index):\n",
    "    \"\"\"배열로 구현한 완전 이진 트리에서 index번째 노드의 오른쪽 자식 노드의 인덱스를 리턴하는 함수\"\"\"\n",
    "    right_child_index = 2 * index + 1\n",
    "\n",
    "    # 오른쪽 자식 노드가 있으면 인덱스를 리턴한다\n",
    "    if 0 < right_child_index < len(complete_binary_tree):\n",
    "        return right_child_index\n",
    "\n",
    "    return None\n",
    "\n",
    "\n",
    "# 실행 코드\n",
    "root_node_index = 1 # root 노드\n",
    "\n",
    "tree = [None, 1, 5, 12, 11, 9, 10, 14, 2, 10]  # 과제 이미지에 있는 완전 이진 트리\n",
    "\n",
    "# root 노드의 왼쪽과 오른쪽 자식 노드의 인덱스를 받아온다\n",
    "left_child_index = get_left_child_index(tree, root_node_index)\n",
    "right_child_index = get_right_child_index(tree,root_node_index)\n",
    "\n",
    "print(tree[left_child_index])\n",
    "print(tree[right_child_index])\n",
    "\n",
    "# 9번째 노드의 부모 노드의 인덱스를 받아온다\n",
    "parent_index = get_parent_index(tree, 9)\n",
    "\n",
    "print(tree[parent_index])\n",
    "\n",
    "# 부모나 자식 노드들이 없는 경우들\n",
    "parent_index = get_parent_index(tree, 1)  # root 노드의 부모 노드의 인덱스를 받아온다\n",
    "print(parent_index)\n",
    "\n",
    "left_child_index = get_left_child_index(tree, 6)  # 6번째 노드의 왼쪽 자식 노드의 인덱스를 받아온다\n",
    "print(left_child_index)\n",
    "\n",
    "right_child_index = get_right_child_index(tree, 8)  # 8번째 노드의 오른쪽 자식 노드의 인덱스를 받아온다\n",
    "print(right_child_index)"
   ]
  }
 ],
 "metadata": {
  "kernelspec": {
   "display_name": "Python 3",
   "language": "python",
   "name": "python3"
  },
  "language_info": {
   "codemirror_mode": {
    "name": "ipython",
    "version": 3
   },
   "file_extension": ".py",
   "mimetype": "text/x-python",
   "name": "python",
   "nbconvert_exporter": "python",
   "pygments_lexer": "ipython3",
   "version": "3.7.3"
  }
 },
 "nbformat": 4,
 "nbformat_minor": 2
}
