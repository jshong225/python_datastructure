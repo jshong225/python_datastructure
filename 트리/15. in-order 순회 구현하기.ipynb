{
 "cells": [
  {
   "cell_type": "code",
   "execution_count": 14,
   "metadata": {},
   "outputs": [
    {
     "name": "stdout",
     "output_type": "stream",
     "text": [
      "A\n",
      "B\n",
      "C\n",
      "D\n",
      "E\n",
      "F\n",
      "G\n",
      "H\n",
      "I\n"
     ]
    }
   ],
   "source": [
    "## 15. in-order 순회 구현하기\n",
    "\n",
    "## https://hongku.tistory.com/160 설명 참고하기\n",
    "class Node:\n",
    "    \"\"\"이진 트리 노드를 나타내는 클래스\"\"\"\n",
    "\n",
    "    def __init__(self, data):\n",
    "        \"\"\"이진 트리 노드는 데이터와 두 자식 노드에 대한 레퍼런스를 갖는다\"\"\"\n",
    "        self.data = data\n",
    "        self.left_child = None\n",
    "        self.right_child = None\n",
    "\n",
    "def traverse_preorder(node):\n",
    "    \"\"\"post-order 순회 함수\"\"\"\n",
    "    if node is not None:\n",
    "        print(node.data)  # 데이터 출력\n",
    "        traverse_preorder(node.left_child)  # 재귀적으로 왼쪽 부분 트리 순회\n",
    "        traverse_preorder(node.right_child)  # 재귀적으로 오른쪽 부분 트리 순회        \n",
    "\n",
    "        \n",
    "def traverse_postorder(node):\n",
    "    \"\"\"post-order 순회 함수\"\"\"\n",
    "    if node is not None:\n",
    "        traverse_postorder(node.left_child)  # 재귀적으로 왼쪽 부분 트리 순회\n",
    "        traverse_postorder(node.right_child)  # 재귀적으로 오른쪽 부분 트리 순회\n",
    "        print(node.data)  # 데이터 출력\n",
    "        \n",
    "        \n",
    "def traverse_inorder(node):\n",
    "    \"\"\"in-order 순회 함수\"\"\"\n",
    "    # 코드를 쓰세요\n",
    "    if node is not None :\n",
    "        traverse_inorder(node.left_child)\n",
    "        print(node.data)\n",
    "        traverse_inorder(node.right_child)\n",
    "    \n",
    "\n",
    "# 여러 노드 인스턴스 생성\n",
    "node_A = Node(\"A\")\n",
    "node_B = Node(\"B\")\n",
    "node_C = Node(\"C\")\n",
    "node_D = Node(\"D\")\n",
    "node_E = Node(\"E\")\n",
    "node_F = Node(\"F\")\n",
    "node_G = Node(\"G\")\n",
    "node_H = Node(\"H\")\n",
    "node_I = Node(\"I\")\n",
    "\n",
    "# 생성한 노드 인스턴스들 연결\n",
    "node_F.left_child = node_B\n",
    "node_F.right_child = node_G\n",
    "\n",
    "node_B.left_child = node_A\n",
    "node_B.right_child = node_D\n",
    "\n",
    "node_D.left_child = node_C\n",
    "node_D.right_child = node_E\n",
    "\n",
    "node_G.right_child = node_I\n",
    "\n",
    "node_I.left_child = node_H\n",
    "\n",
    "# 노드 F를 root 노드로 만든다\n",
    "root_node = node_F\n",
    "\n",
    "# 만들어 놓은 트리를 in-order로 순회한다\n",
    "traverse_inorder(root_node)"
   ]
  }
 ],
 "metadata": {
  "kernelspec": {
   "display_name": "Python 3",
   "language": "python",
   "name": "python3"
  },
  "language_info": {
   "codemirror_mode": {
    "name": "ipython",
    "version": 3
   },
   "file_extension": ".py",
   "mimetype": "text/x-python",
   "name": "python",
   "nbconvert_exporter": "python",
   "pygments_lexer": "ipython3",
   "version": "3.7.3"
  }
 },
 "nbformat": 4,
 "nbformat_minor": 2
}
