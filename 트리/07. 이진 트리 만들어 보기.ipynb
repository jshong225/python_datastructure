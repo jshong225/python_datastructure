{
 "cells": [
  {
   "cell_type": "code",
   "execution_count": 2,
   "metadata": {},
   "outputs": [
    {
     "name": "stdout",
     "output_type": "stream",
     "text": [
      "F\n",
      "G\n",
      "H\n"
     ]
    }
   ],
   "source": [
    "# 07. 이진 트리 만들어 보기\n",
    "\n",
    "class Node:\n",
    "    \"\"\"이진 트리 노드 클래스\"\"\"\n",
    "    def __init__(self, data):\n",
    "            self.data = data\n",
    "            self.left_child = None\n",
    "            self.right_child = None\n",
    "\n",
    "\n",
    "# root 노드 생성\n",
    "root_node = Node(\"A\")\n",
    "\n",
    "# 코드를 쓰세요\n",
    "node_B = Node(\"B\")\n",
    "node_C = Node(\"C\")\n",
    "node_D = Node(\"D\")\n",
    "node_E = Node(\"E\")\n",
    "node_F = Node(\"F\")\n",
    "node_G = Node(\"G\")\n",
    "node_H = Node(\"H\")\n",
    "\n",
    "# 노드 인스턴스들 연결\n",
    "root_node.left_child = node_B\n",
    "root_node.right_child = node_C\n",
    "\n",
    "node_B.left_child = node_D\n",
    "node_B.right_child = node_E\n",
    "\n",
    "node_C.right_child = node_F\n",
    "\n",
    "node_E.left_child = node_G\n",
    "node_E.right_child = node_H\n",
    "\n",
    "# 실행 코드\n",
    "test_node = root_node.right_child.right_child\n",
    "print(test_node.data)\n",
    "\n",
    "test_node = root_node.left_child.right_child.left_child\n",
    "print(test_node.data)\n",
    "\n",
    "test_node = root_node.left_child.right_child.right_child\n",
    "print(test_node.data)"
   ]
  }
 ],
 "metadata": {
  "kernelspec": {
   "display_name": "Python 3",
   "language": "python",
   "name": "python3"
  },
  "language_info": {
   "codemirror_mode": {
    "name": "ipython",
    "version": 3
   },
   "file_extension": ".py",
   "mimetype": "text/x-python",
   "name": "python",
   "nbconvert_exporter": "python",
   "pygments_lexer": "ipython3",
   "version": "3.7.3"
  }
 },
 "nbformat": 4,
 "nbformat_minor": 2
}
