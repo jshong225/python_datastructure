{
 "cells": [
  {
   "cell_type": "code",
   "execution_count": 2,
   "metadata": {},
   "outputs": [
    {
     "name": "stdout",
     "output_type": "stream",
     "text": [
      "[[0, 1, 1, 0, 0, 0], [1, 0, 0, 1, 0, 1], [1, 0, 0, 0, 0, 1], [0, 1, 0, 0, 1, 1], [0, 0, 0, 1, 0, 1], [0, 1, 1, 1, 1, 0]]\n"
     ]
    }
   ],
   "source": [
    "## 09. 인접 행렬 구현해보기\n",
    "\n",
    "\n",
    "# 모든 요소를 0으로 초기화시킨 크기 6 x 6 인접 행렬\n",
    "adjacency_matrix = [[0 for i in range(6)] for i in range(6)]\n",
    "\n",
    "# 코드를 쓰세요\n",
    "adjacency_matrix[0][1] = 1\n",
    "adjacency_matrix[0][2] = 1\n",
    "adjacency_matrix[1][0] = 1\n",
    "adjacency_matrix[1][3] = 1\n",
    "adjacency_matrix[1][5] = 1\n",
    "adjacency_matrix[2][0] = 1\n",
    "adjacency_matrix[2][5] = 1\n",
    "adjacency_matrix[3][1] = 1\n",
    "adjacency_matrix[3][4] = 1\n",
    "adjacency_matrix[3][5] = 1\n",
    "adjacency_matrix[4][3] = 1\n",
    "adjacency_matrix[4][5] = 1\n",
    "adjacency_matrix[5][1] = 1\n",
    "adjacency_matrix[5][2] = 1\n",
    "adjacency_matrix[5][3] = 1\n",
    "adjacency_matrix[5][4] = 1\n",
    "\n",
    "\n",
    "print(adjacency_matrix)\n",
    "\n"
   ]
  }
 ],
 "metadata": {
  "kernelspec": {
   "display_name": "Python 3",
   "language": "python",
   "name": "python3"
  },
  "language_info": {
   "codemirror_mode": {
    "name": "ipython",
    "version": 3
   },
   "file_extension": ".py",
   "mimetype": "text/x-python",
   "name": "python",
   "nbconvert_exporter": "python",
   "pygments_lexer": "ipython3",
   "version": "3.7.3"
  }
 },
 "nbformat": 4,
 "nbformat_minor": 2
}
